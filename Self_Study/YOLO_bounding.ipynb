{
 "cells": [
  {
   "cell_type": "code",
   "execution_count": 60,
   "id": "eb0f3b0d-048c-4004-a24b-35fee9176694",
   "metadata": {},
   "outputs": [],
   "source": [
    "# https://dlsdn73.tistory.com/1055"
   ]
  },
  {
   "cell_type": "markdown",
   "id": "81fd4f56-c104-4470-951e-599b4e450213",
   "metadata": {},
   "source": [
    "# YOLO 활용 영상 바운딩 박스"
   ]
  },
  {
   "cell_type": "markdown",
   "id": "9dc68143-a179-46f8-bae6-95e2f72b4653",
   "metadata": {},
   "source": [
    "# 메인코드"
   ]
  },
  {
   "cell_type": "code",
   "execution_count": 1,
   "id": "2d28ffc6-bc9d-485f-8875-6599fa7a4f2c",
   "metadata": {},
   "outputs": [],
   "source": [
    "import cv2\n",
    "import numpy as np\n",
    "import os\n",
    "import matplotlib.pyplot as plt\n",
    "import matplotlib.image as mpimg"
   ]
  },
  {
   "cell_type": "code",
   "execution_count": 2,
   "id": "dafe84e2-a68a-43a8-b394-afe80a13705e",
   "metadata": {},
   "outputs": [],
   "source": [
    "IMAGE = \"C:\\python\\practice\\sample.mp4\" # sample에 영상 이름 넣기\n",
    "CONFIG = \"C:\\python\\practice\\yolov3.cfg\"\n",
    "CLASSES = \"C:\\python\\practice\\yolov3.txt\"\n",
    "WEIGHTS = \"C:\\python\\practice\\yolov3.weights\""
   ]
  },
  {
   "cell_type": "code",
   "execution_count": 3,
   "id": "af9025b4-e852-48e4-a0c1-a26981915fae",
   "metadata": {},
   "outputs": [
    {
     "name": "stdout",
     "output_type": "stream",
     "text": [
      "True\n",
      "True\n",
      "True\n",
      "True\n"
     ]
    }
   ],
   "source": [
    "# Path Confirm\n",
    "\n",
    "print(os.path.exists(CLASSES))\n",
    "print(os.path.exists(CONFIG))\n",
    "print(os.path.exists(WEIGHTS))\n",
    "print(os.path.exists(IMAGE))"
   ]
  },
  {
   "cell_type": "code",
   "execution_count": 4,
   "id": "19c5306e-3272-4646-9f18-0f915fa2b6bc",
   "metadata": {},
   "outputs": [],
   "source": [
    "# read class names fromtext file\n",
    "\n",
    "classes = None\n",
    "with open(CLASSES, 'r') as f:\n",
    "    classes = [line.strip() for line in f.readlines()]\n",
    "    \n",
    "scale = 0.00392\n",
    "conf_threshold = 0.5\n",
    "nms_threshold = 0.4"
   ]
  },
  {
   "cell_type": "code",
   "execution_count": 5,
   "id": "114d60c9-180f-4684-9e50-0ca4b89e68a7",
   "metadata": {},
   "outputs": [],
   "source": [
    "# generate different colors for different classes\n",
    "COLORS = np.random.uniform(0, 255, size=(len(classes), 3))"
   ]
  },
  {
   "cell_type": "code",
   "execution_count": 8,
   "id": "0e9f36d1-c066-4572-80d6-a1850624f543",
   "metadata": {},
   "outputs": [],
   "source": [
    "# function to get the output layer names\n",
    "# in the architecture\n",
    "def get_output_layers(net):\n",
    "    layer_names = net.getLayerNames()\n",
    "    output_layers = [layer_names[i[0] - 1] for i in net.getUnconnectedOutLayers()]\n",
    "    return output_layers"
   ]
  },
  {
   "cell_type": "code",
   "execution_count": 9,
   "id": "b4a3e34e-ba22-43bd-88fd-7591ecd148dd",
   "metadata": {},
   "outputs": [],
   "source": [
    "# function to draw bounding box on the detected object with class name\n",
    "def draw_bounding_box(img, class_id, confidence, x, y, x_plus_w, y_plus_h):\n",
    "    label = str(classes[class_id])\n",
    "    color = COLORS[class_id]\n",
    "    cv2.rectangle(img, (x,y), (x_plus_w, y_plus_h), color, 2)\n",
    "    cv2.putText(img, label, (x-10, y-10), cv2.FONT_HERSHEY_SIMPLEX, 0.5, color, 2)\n",
    "    \n",
    "def processImage(image, index):\n",
    "    \n",
    "    Width = image.shape[1]\n",
    "    Height = image.shape[0]\n",
    "    \n",
    "    # read pre-trained model and config file\n",
    "    net = cv2.dnn.readNet(WEIGHTS, CONFIG)\n",
    "    \n",
    "    #create input blob\n",
    "    blob = cv2.dnn.blobFromImage(image, scale, (416, 416), (0, 0, 0), True, crop=False)\n",
    "    #set input blob for the network\n",
    "    net.setInput(blob)\n",
    "    \n",
    "    # run inference through the network\n",
    "    # and gather predictions from output layers\n",
    "    outs = net.forward(get_output_layers(net))\n",
    "    \n",
    "    # initialization\n",
    "    class_ids = []\n",
    "    confidences = []\n",
    "    boxes = []\n",
    "    \n",
    "    # for each detection from each output layer\n",
    "    # get the confidence, class id, bounding box params\n",
    "    # and ignore weak detections (confidences < 0.5)\n",
    "    for out in outs:\n",
    "        for detection in out:\n",
    "            scores = detection[5:]\n",
    "            class_id = np.argmax(scores)\n",
    "            confidence = scores[class_id]\n",
    "            if confidence > 0.5:\n",
    "                center_x = int(detection[0] * Width)\n",
    "                center_y = int(detection[1] * Height)\n",
    "                w = int(detection[2] * Width)\n",
    "                h = int(detection[3] * Height)\n",
    "                x = center_x - w / 2\n",
    "                y = center_y - h / 2\n",
    "                class_ids.append(class_id)\n",
    "                confidences.append(float(confidence))\n",
    "                boxes.append([x, y, w, h])\n",
    "                \n",
    "    # apply non-max suppression\n",
    "    indices = cv2.dnn.NMSBoxes(boxes, confidences, conf_threshold, nms_threshold)\n",
    "    \n",
    "    # go through the detections remaining\n",
    "    # after nms and draw bounding box\n",
    "    for i in indices:\n",
    "        i = i[0]\n",
    "        box = boxes[i]\n",
    "        x = box[0]\n",
    "        y = box[1]\n",
    "        w = box[2]\n",
    "        h = box[3]\n",
    "        \n",
    "        draw_bounding_box(image, class_ids[i], confidences[i], round(x), round(y), round(x + w), round(y + h))\n",
    "        \n",
    "    # display output image\n",
    "    out_image_name = \"object detection\" + str(index)\n",
    "    # cv2.imshow(out_image_name, image)\n",
    "    # wait until any key is pressed\n",
    "    # cv2.waitKey()\n",
    "    # save output image to disk\n",
    "    cv2.imwrite(\"C:\\python\\practice\\samplefolder\" + out_image_name + \".jpg\", image)\n",
    "    "
   ]
  },
  {
   "cell_type": "code",
   "execution_count": 10,
   "id": "0efc17df-2963-4be3-bd6b-df6459cf7ce2",
   "metadata": {},
   "outputs": [
    {
     "name": "stdout",
     "output_type": "stream",
     "text": [
      "<VideoCapture 000001D4AC749D10>\n"
     ]
    }
   ],
   "source": [
    "# open the video file\n",
    "cap = cv2.VideoCapture(IMAGE)\n",
    "print(cap)\n",
    "\n",
    "index = 0\n",
    "\n",
    "while (cap.isOpened()):\n",
    "    ret, frame = cap.read()\n",
    "    \n",
    "    if type(frame) ==  type(None):\n",
    "        break\n",
    "        \n",
    "    processImage(frame, index)\n",
    "    index = index + 1\n",
    "\n",
    "# release resources\n",
    "cv2.destroyAllWindows()"
   ]
  },
  {
   "cell_type": "code",
   "execution_count": null,
   "id": "cf4df062-7448-43de-9be0-c48ce022db89",
   "metadata": {},
   "outputs": [],
   "source": []
  }
 ],
 "metadata": {
  "kernelspec": {
   "display_name": "Python 3",
   "language": "python",
   "name": "python3"
  },
  "language_info": {
   "codemirror_mode": {
    "name": "ipython",
    "version": 3
   },
   "file_extension": ".py",
   "mimetype": "text/x-python",
   "name": "python",
   "nbconvert_exporter": "python",
   "pygments_lexer": "ipython3",
   "version": "3.8.8"
  }
 },
 "nbformat": 4,
 "nbformat_minor": 5
}
